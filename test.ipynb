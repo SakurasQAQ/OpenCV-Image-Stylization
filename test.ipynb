{
 "cells": [
  {
   "cell_type": "code",
   "execution_count": 1,
   "id": "2951309d",
   "metadata": {},
   "outputs": [
    {
     "name": "stdout",
     "output_type": "stream",
     "text": [
      "Requirement already satisfied: torch in d:\\course_usyd\\code\\5405\\img_flask\\venv\\lib\\site-packages (2.6.0)\n",
      "Requirement already satisfied: torchvision in d:\\course_usyd\\code\\5405\\img_flask\\venv\\lib\\site-packages (0.21.0)\n",
      "Requirement already satisfied: pillow in d:\\course_usyd\\code\\5405\\img_flask\\venv\\lib\\site-packages (11.1.0)\n",
      "Requirement already satisfied: filelock in d:\\course_usyd\\code\\5405\\img_flask\\venv\\lib\\site-packages (from torch) (3.18.0)\n",
      "Requirement already satisfied: typing-extensions>=4.10.0 in d:\\course_usyd\\code\\5405\\img_flask\\venv\\lib\\site-packages (from torch) (4.13.0)\n",
      "Requirement already satisfied: networkx in d:\\course_usyd\\code\\5405\\img_flask\\venv\\lib\\site-packages (from torch) (3.4.2)\n",
      "Requirement already satisfied: jinja2 in d:\\course_usyd\\code\\5405\\img_flask\\venv\\lib\\site-packages (from torch) (3.1.6)\n",
      "Requirement already satisfied: fsspec in d:\\course_usyd\\code\\5405\\img_flask\\venv\\lib\\site-packages (from torch) (2025.3.2)\n",
      "Requirement already satisfied: sympy==1.13.1 in d:\\course_usyd\\code\\5405\\img_flask\\venv\\lib\\site-packages (from torch) (1.13.1)\n",
      "Requirement already satisfied: mpmath<1.4,>=1.1.0 in d:\\course_usyd\\code\\5405\\img_flask\\venv\\lib\\site-packages (from sympy==1.13.1->torch) (1.3.0)\n",
      "Requirement already satisfied: numpy in d:\\course_usyd\\code\\5405\\img_flask\\venv\\lib\\site-packages (from torchvision) (2.2.4)\n",
      "Requirement already satisfied: MarkupSafe>=2.0 in d:\\course_usyd\\code\\5405\\img_flask\\venv\\lib\\site-packages (from jinja2->torch) (3.0.2)\n",
      "Note: you may need to restart the kernel to use updated packages.\n"
     ]
    },
    {
     "name": "stderr",
     "output_type": "stream",
     "text": [
      "\n",
      "[notice] A new release of pip is available: 25.0.1 -> 25.1.1\n",
      "[notice] To update, run: python.exe -m pip install --upgrade pip\n"
     ]
    }
   ],
   "source": [
    "%pip install torch torchvision pillow"
   ]
  },
  {
   "cell_type": "code",
   "execution_count": 2,
   "id": "9391bc1c",
   "metadata": {},
   "outputs": [],
   "source": [
    "import os\n",
    "from PIL import Image\n",
    "import torch\n",
    "import torch.nn as nn\n",
    "import torch.optim as optim\n",
    "from torchvision import transforms, models\n",
    "from torchvision.utils import save_image\n",
    "from torch.utils.data import Dataset, DataLoader\n"
   ]
  }
 ],
 "metadata": {
  "kernelspec": {
   "display_name": "venv",
   "language": "python",
   "name": "python3"
  },
  "language_info": {
   "codemirror_mode": {
    "name": "ipython",
    "version": 3
   },
   "file_extension": ".py",
   "mimetype": "text/x-python",
   "name": "python",
   "nbconvert_exporter": "python",
   "pygments_lexer": "ipython3",
   "version": "3.11.2"
  }
 },
 "nbformat": 4,
 "nbformat_minor": 5
}
