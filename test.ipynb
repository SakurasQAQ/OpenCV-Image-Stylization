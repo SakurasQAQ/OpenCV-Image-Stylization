{
 "cells": [
  {
   "cell_type": "code",
   "execution_count": 1,
   "id": "9391bc1c",
   "metadata": {},
   "outputs": [],
   "source": [
    "import torch\n",
    "import torch.nn as nn\n",
    "from torchvision import models, transforms\n",
    "from PIL import Image\n",
    "import matplotlib.pyplot as plt\n",
    "import os"
   ]
  },
  {
   "cell_type": "code",
   "execution_count": 2,
   "id": "47cde019",
   "metadata": {},
   "outputs": [],
   "source": [
    "def load_image(path, max_size=512):\n",
    "    image = Image.open(path).convert('RGB')\n",
    "    size = min(max(image.size), max_size)\n",
    "    transform = transforms.Compose([\n",
    "        transforms.Resize((size, size)),\n",
    "        transforms.ToTensor()\n",
    "    ])\n",
    "    return transform(image).unsqueeze(0)\n",
    "\n",
    "def imshow(tensor, title=''):\n",
    "    image = tensor.clone().squeeze(0).cpu().clamp(0, 1)\n",
    "    plt.imshow(transforms.ToPILImage()(image))\n",
    "    plt.axis('off')\n",
    "    plt.title(title)\n",
    "    plt.show()\n"
   ]
  },
  {
   "cell_type": "code",
   "execution_count": 3,
   "id": "dd1bbede",
   "metadata": {},
   "outputs": [],
   "source": [
    "def calc_mean_std(feat, eps=1e-5):\n",
    "    N, C = feat.size()[:2]\n",
    "    feat_var = feat.view(N, C, -1).var(dim=2) + eps\n",
    "    feat_std = feat_var.sqrt().view(N, C, 1, 1)\n",
    "    feat_mean = feat.view(N, C, -1).mean(dim=2).view(N, C, 1, 1)\n",
    "    return feat_mean, feat_std\n",
    "\n",
    "def adain(content_feat, style_feat):\n",
    "    content_mean, content_std = calc_mean_std(content_feat)\n",
    "    style_mean, style_std = calc_mean_std(style_feat)\n",
    "    normalized = (content_feat - content_mean) / content_std\n",
    "    return normalized * style_std + style_mean\n",
    "\n",
    "class VGGEncoder(nn.Module):\n",
    "    def __init__(self):\n",
    "        super().__init__()\n",
    "        vgg = models.vgg19(pretrained=True).features\n",
    "        self.encoder = nn.Sequential(*list(vgg.children())[:21])\n",
    "        for param in self.encoder.parameters():\n",
    "            param.requires_grad = False\n",
    "\n",
    "    def forward(self, x):\n",
    "        return self.encoder(x)"
   ]
  },
  {
   "cell_type": "code",
   "execution_count": null,
   "id": "2ae2cefe",
   "metadata": {
    "vscode": {
     "languageId": "ini"
    }
   },
   "outputs": [],
   "source": [
    "class Decoder(nn.Module):\n",
    "    def __init__(self):\n",
    "        super().__init__()\n",
    "        self.model = nn.Sequential(\n",
    "            nn.Conv2d(512, 256, 3, padding=1),\n",
    "            nn.ReLU(inplace=True),\n",
    "            nn.Upsample(scale_factor=2),\n",
    "            nn.Conv2d(256, 128, 3, padding=1),\n",
    "            nn.ReLU(inplace=True),\n",
    "            nn.Upsample(scale_factor=2),\n",
    "            nn.Conv2d(128, 64, 3, padding=1),\n",
    "            nn.ReLU(inplace=True),\n",
    "            nn.Upsample(scale_factor=2),\n",
    "            nn.Conv2d(64, 3, 3, padding=1)\n",
    "        )\n",
    "\n",
    "    def forward(self, x):\n",
    "        return self.model(x)"
   ]
  },
  {
   "cell_type": "code",
   "execution_count": 5,
   "id": "1c2f7443",
   "metadata": {},
   "outputs": [
    {
     "ename": "FileNotFoundError",
     "evalue": "[Errno 2] No such file or directory: 'resource\\\\sty\\\\content.png'",
     "output_type": "error",
     "traceback": [
      "\u001b[31m---------------------------------------------------------------------------\u001b[39m",
      "\u001b[31mFileNotFoundError\u001b[39m                         Traceback (most recent call last)",
      "\u001b[36mCell\u001b[39m\u001b[36m \u001b[39m\u001b[32mIn[5]\u001b[39m\u001b[32m, line 3\u001b[39m\n\u001b[32m      1\u001b[39m device = torch.device(\u001b[33m\"\u001b[39m\u001b[33mcuda\u001b[39m\u001b[33m\"\u001b[39m \u001b[38;5;28;01mif\u001b[39;00m torch.cuda.is_available() \u001b[38;5;28;01melse\u001b[39;00m \u001b[33m\"\u001b[39m\u001b[33mcpu\u001b[39m\u001b[33m\"\u001b[39m)\n\u001b[32m----> \u001b[39m\u001b[32m3\u001b[39m content = \u001b[43mload_image\u001b[49m\u001b[43m(\u001b[49m\u001b[33;43m\"\u001b[39;49m\u001b[33;43mresource\u001b[39;49m\u001b[33;43m\\\u001b[39;49m\u001b[33;43msty\u001b[39;49m\u001b[33;43m\\\u001b[39;49m\u001b[33;43mcontent.png\u001b[39;49m\u001b[33;43m\"\u001b[39;49m\u001b[43m)\u001b[49m.to(device)\n\u001b[32m      4\u001b[39m style = load_image(\u001b[33m\"\u001b[39m\u001b[33mresource\u001b[39m\u001b[33m\\\u001b[39m\u001b[33msty\u001b[39m\u001b[33m\\\u001b[39m\u001b[33mstyle.jpg\u001b[39m\u001b[33m\"\u001b[39m).to(device)\n\u001b[32m      6\u001b[39m encoder = VGGEncoder().to(device)\n",
      "\u001b[36mCell\u001b[39m\u001b[36m \u001b[39m\u001b[32mIn[2]\u001b[39m\u001b[32m, line 2\u001b[39m, in \u001b[36mload_image\u001b[39m\u001b[34m(path, max_size)\u001b[39m\n\u001b[32m      1\u001b[39m \u001b[38;5;28;01mdef\u001b[39;00m\u001b[38;5;250m \u001b[39m\u001b[34mload_image\u001b[39m(path, max_size=\u001b[32m512\u001b[39m):\n\u001b[32m----> \u001b[39m\u001b[32m2\u001b[39m     image = \u001b[43mImage\u001b[49m\u001b[43m.\u001b[49m\u001b[43mopen\u001b[49m\u001b[43m(\u001b[49m\u001b[43mpath\u001b[49m\u001b[43m)\u001b[49m.convert(\u001b[33m'\u001b[39m\u001b[33mRGB\u001b[39m\u001b[33m'\u001b[39m)\n\u001b[32m      3\u001b[39m     size = \u001b[38;5;28mmin\u001b[39m(\u001b[38;5;28mmax\u001b[39m(image.size), max_size)\n\u001b[32m      4\u001b[39m     transform = transforms.Compose([\n\u001b[32m      5\u001b[39m         transforms.Resize((size, size)),\n\u001b[32m      6\u001b[39m         transforms.ToTensor()\n\u001b[32m      7\u001b[39m     ])\n",
      "\u001b[36mFile \u001b[39m\u001b[32md:\\Course_USYD\\Code\\5405\\img_flask\\venv\\Lib\\site-packages\\PIL\\Image.py:3465\u001b[39m, in \u001b[36mopen\u001b[39m\u001b[34m(fp, mode, formats)\u001b[39m\n\u001b[32m   3462\u001b[39m     filename = os.fspath(fp)\n\u001b[32m   3464\u001b[39m \u001b[38;5;28;01mif\u001b[39;00m filename:\n\u001b[32m-> \u001b[39m\u001b[32m3465\u001b[39m     fp = \u001b[43mbuiltins\u001b[49m\u001b[43m.\u001b[49m\u001b[43mopen\u001b[49m\u001b[43m(\u001b[49m\u001b[43mfilename\u001b[49m\u001b[43m,\u001b[49m\u001b[43m \u001b[49m\u001b[33;43m\"\u001b[39;49m\u001b[33;43mrb\u001b[39;49m\u001b[33;43m\"\u001b[39;49m\u001b[43m)\u001b[49m\n\u001b[32m   3466\u001b[39m     exclusive_fp = \u001b[38;5;28;01mTrue\u001b[39;00m\n\u001b[32m   3467\u001b[39m \u001b[38;5;28;01melse\u001b[39;00m:\n",
      "\u001b[31mFileNotFoundError\u001b[39m: [Errno 2] No such file or directory: 'resource\\\\sty\\\\content.png'"
     ]
    }
   ],
   "source": [
    "device = torch.device(\"cuda\" if torch.cuda.is_available() else \"cpu\")\n",
    "\n",
    "content = load_image(\"resource\\sty\\content.png\").to(device)\n",
    "style = load_image(\"resource\\sty\\style.jpg\").to(device)\n",
    "\n",
    "encoder = VGGEncoder().to(device)\n",
    "decoder = Decoder().to(device)\n",
    "\n",
    "with torch.no_grad():\n",
    "    content_feat = encoder(content)\n",
    "    style_feat = encoder(style)\n",
    "    t = adain(content_feat, style_feat)\n",
    "    output = decoder(t)\n",
    "\n",
    "imshow(content, \"Content\")\n",
    "imshow(style, \"Style\")\n",
    "imshow(output, \"Stylized Output\")"
   ]
  },
  {
   "cell_type": "code",
   "execution_count": null,
   "id": "6efaec75",
   "metadata": {},
   "outputs": [],
   "source": []
  }
 ],
 "metadata": {
  "kernelspec": {
   "display_name": "venv",
   "language": "python",
   "name": "python3"
  },
  "language_info": {
   "codemirror_mode": {
    "name": "ipython",
    "version": 3
   },
   "file_extension": ".py",
   "mimetype": "text/x-python",
   "name": "python",
   "nbconvert_exporter": "python",
   "pygments_lexer": "ipython3",
   "version": "3.11.2"
  }
 },
 "nbformat": 4,
 "nbformat_minor": 5
}
